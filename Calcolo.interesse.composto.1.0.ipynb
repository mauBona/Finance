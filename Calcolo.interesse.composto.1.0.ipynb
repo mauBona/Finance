{
 "cells": [
  {
   "cell_type": "code",
   "execution_count": 5,
   "metadata": {},
   "outputs": [
    {
     "name": "stdout",
     "output_type": "stream",
     "text": [
      "Capitale iniziale: €165000. Nuovo investimenti 120. Rendita: €159751.99\n",
      "importo totale investito: €165120. Il capitale totale dopo 10 anni è: €324751.99\n"
     ]
    }
   ],
   "source": [
    "## PAC - Calcolo tramite interesse composto\n",
    "# Segue sito web che fa la stessa cosa:\n",
    "# https://www.nef.lu/do.jsp?XDH=1360&XD=1311&LANGUAGE=IT&XDI=3&MAH=a6e016bd74794f5e381634e3797ca757\n",
    "# https://economiapertutti.bancaditalia.it/calcolatori/calcolatore-dell-interesse/\n",
    "# Dati di input\n",
    "capitale_iniziale = 165000\n",
    "importo_mensile = 1\n",
    "tasso_annuo = 0.07\n",
    "durata_anni = 10\n",
    "\n",
    "# Calcolo del tasso di interesse mensile\n",
    "tasso_mensile = (1 + tasso_annuo) ** (1/12) - 1\n",
    "\n",
    "# Numero totale di mesi\n",
    "mesi = durata_anni * 12\n",
    "\n",
    "# importo totale investito\n",
    "importo_totale_investito = capitale_iniziale + importo_mensile * 12 * durata_anni\n",
    "\n",
    "# Calcolo del capitale totale\n",
    "capitale_totale = capitale_iniziale\n",
    "for _ in range(mesi):\n",
    "    capitale_totale = (capitale_totale + importo_mensile) * (1 + tasso_mensile)\n",
    "\n",
    "print(f\"Capitale iniziale: €{capitale_iniziale}. Nuovo investimenti {importo_mensile * 12 * durata_anni}. Rendita: €{capitale_totale-capitale_iniziale:.2f}\")\n",
    "print(f\"importo totale investito: €{importo_totale_investito}. Il capitale totale dopo {durata_anni} anni è: €{capitale_totale:.2f}\")"
   ]
  },
  {
   "cell_type": "code",
   "execution_count": 4,
   "metadata": {},
   "outputs": [
    {
     "name": "stdout",
     "output_type": "stream",
     "text": [
      "Capitale iniziale: 70000.00 \n",
      "La regola del 72 dice che si raddoppia l'investimento in 10.29 anni.\n",
      "Il capitale finale dopo 10 anni è invece: €137700.60\n"
     ]
    }
   ],
   "source": [
    "## Rendimento di un investimento sia tramite calcolo rendimento composto che 'Regola del 72'\n",
    "\n",
    "# Dati di input\n",
    "capitale_iniziale = 70000  # Capitale iniziale in euro\n",
    "tasso_annuo = 0.07         # Rendimento medio annuo\n",
    "anni = 10                  # Durata dell'investimento in anni\n",
    "raddoppio_capitale = 72 / (tasso_annuo * 100)\n",
    "# Calcolo del capitale finale con interesse composto\n",
    "capitale_finale = capitale_iniziale * (1 + tasso_annuo) ** anni\n",
    "\n",
    "print(f\"Capitale iniziale: {capitale_iniziale:.2f} \")\n",
    "print(f\"La regola del 72 dice che si raddoppia l'investimento in {raddoppio_capitale:.2f} anni.\")\n",
    "print(f\"Il capitale finale dopo {anni} anni è invece: €{capitale_finale:.2f}\")\n"
   ]
  }
 ],
 "metadata": {
  "kernelspec": {
   "display_name": "Python 3 (ipykernel)",
   "language": "python",
   "name": "python3"
  },
  "language_info": {
   "codemirror_mode": {
    "name": "ipython",
    "version": 3
   },
   "file_extension": ".py",
   "mimetype": "text/x-python",
   "name": "python",
   "nbconvert_exporter": "python",
   "pygments_lexer": "ipython3",
   "version": "3.11.4"
  }
 },
 "nbformat": 4,
 "nbformat_minor": 2
}
