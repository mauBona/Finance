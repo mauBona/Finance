{
 "cells": [
  {
   "cell_type": "markdown",
   "metadata": {},
   "source": [
    "# Analisi VIX #\n",
    "\n",
    "Questo notebook analizza l'andamento del VIX utilizzando indicatori quali la media esponenziale a 20gg, la media esponenziale a 250 gg, le bande di Bollinger (sfruttando la deviazione standard) e la variazione percentuale.\n",
    "Produce sia un grafico che un semaforo per gli ultimi 30 giorni.\n",
    "\n",
    "\n",
    "## Cosa ti dicono gli indicatori di media e deviazioni standard ##\n",
    "\n",
    "### Media ###\n",
    "Livello di base della volatilità: La media del VIX ti indica qual è il livello di volatilità \"normale\" o di base per il mercato in un determinato periodo.\n",
    "Confronto con valori storici: Confrontando la media attuale con i valori medi storici, puoi capire se il mercato è più o meno volatile rispetto al passato.\n",
    "\n",
    "### Deviazione standard ###\n",
    "Ampiezza delle fluttuazioni: La deviazione standard ti indica quanto i valori del VIX tendono a discostarsi dalla media. Un'alta deviazione standard significa che il VIX ha oscillazioni ampie e che la volatilità del mercato può cambiare rapidamente.\n",
    "Rischio percepito: Una deviazione standard elevata suggerisce che gli investitori percepiscono un maggiore rischio e incertezza nel mercato.\n",
    "\n",
    "Un aumento della media e della deviazione standard del VIX può indicare un aumento dell'avversione al rischio e un'anticipazione di maggiori turbolenze nei mercati.\n",
    "\n"
   ]
  },
  {
   "cell_type": "code",
   "execution_count": 271,
   "metadata": {},
   "outputs": [],
   "source": [
    "import yfinance as yf\n",
    "import matplotlib.pyplot as plt\n",
    "from datetime import datetime, timedelta\n",
    "import pandas as pd\n",
    "import numpy as np\n",
    "import matplotlib.pyplot as plt\n",
    "import openpyxl\n",
    "from statsmodels.tsa.stattools import adfuller"
   ]
  },
  {
   "cell_type": "code",
   "execution_count": 272,
   "metadata": {},
   "outputs": [],
   "source": [
    "tickers = {\n",
    "    'VIX': \"^VIX\",        # BIX\n",
    "}\n",
    "# Definisci il periodo di analisi - Attenzione che i risultanti giorni di borsa sono meno (sab e domeniche e feste escluse)\n",
    "elapsed = 365 # un anno che equivale a 252 giorni di borsa\n",
    "fine_periodo = datetime.now() - timedelta(days=1)\n",
    "inizio_periodo = fine_periodo - timedelta(days=elapsed)"
   ]
  },
  {
   "cell_type": "code",
   "execution_count": 273,
   "metadata": {},
   "outputs": [],
   "source": [
    "def caricamento_vix():  \n",
    "    \"\"\"Scarica i dati storici per gli indicatori chiave.\"\"\"\n",
    "    dati_allineati = []\n",
    "    \n",
    "    for nome, simbolo in tickers.items():\n",
    "        try:\n",
    "            df = yf.download(\n",
    "                simbolo,\n",
    "                start=inizio_periodo.strftime('%Y-%m-%d'),\n",
    "                end=fine_periodo.strftime('%Y-%m-%d'),\n",
    "                progress=False\n",
    "            )\n",
    "            # df is made of Open, High, Close, Volume,etc  + Data as index\n",
    "            if not df.empty and 'Close' in df.columns:\n",
    "                df_temp = df['Close'].reset_index()\n",
    "                # Trasforma l'indice di date in una colonna normale\n",
    "                # Aggiunge una numerazione progressiva come nuovo indice\n",
    "                df_temp.columns = ['Data', nome]\n",
    "                print(f\"Size indicatore {nome} è {len(df_temp)} \")\n",
    "                dati_allineati.append(df_temp)\n",
    "            else:\n",
    "                print(f\"Nessun dato disponibile per {nome} ({simbolo})\")\n",
    "        \n",
    "        except Exception as e:\n",
    "            print(f\"Errore durante il download di {nome} ({simbolo}): {e}\")\n",
    "    \n",
    "    # Unisci tutti i DataFrame usando la colonna Data\n",
    "    if dati_allineati:\n",
    "        df_finale = pd.DataFrame()\n",
    "        for df in dati_allineati:\n",
    "            if df_finale.empty:\n",
    "                df_finale = df\n",
    "            else:\n",
    "                df_finale = pd.merge(df_finale, df, on='Data', how='inner')\n",
    "                # on='Data': unisce usando la colonna 'Data' come chiave\n",
    "                # how='inner': mantiene solo le date presenti in TUTTI i DataFrame\n",
    "        \n",
    "        # Imposta la colonna Data come indice\n",
    "        df_finale.set_index('Data', inplace=True)\n",
    "        return df_finale\n",
    "    else:\n",
    "        raise ValueError(\"Nessun dato scaricato\")\n",
    "\n"
   ]
  },
  {
   "cell_type": "code",
   "execution_count": 274,
   "metadata": {},
   "outputs": [
    {
     "name": "stdout",
     "output_type": "stream",
     "text": [
      "Size indicatore VIX è 251 \n",
      "Size indicatore VIX è 251 \n",
      "data_inizio: 2023-12-12\n",
      "data_fine: 2024-12-10\n"
     ]
    }
   ],
   "source": [
    "\n",
    "df = caricamento_vix()\n",
    "print(f\"Size indicatore VIX è {len(df)} \")\n",
    "data_inizio = df.index[0]\n",
    "# il giorno corrente si trova all'ultimo posto della tabella quindi -1\n",
    "data_fine = df.index[-1]\n",
    "print(f\"data_inizio: {data_inizio.strftime('%Y-%m-%d')}\")\n",
    "print(f\"data_fine: {data_fine.strftime('%Y-%m-%d')}\")\n"
   ]
  },
  {
   "cell_type": "code",
   "execution_count": 275,
   "metadata": {},
   "outputs": [
    {
     "data": {
      "text/plain": [
       "<bound method NDFrame.head of               VIX\n",
       "Data             \n",
       "2023-12-12  12.07\n",
       "2023-12-13  12.19\n",
       "2023-12-14  12.48\n",
       "2023-12-15  12.28\n",
       "2023-12-18  12.56\n",
       "...           ...\n",
       "2024-12-04  13.45\n",
       "2024-12-05  13.54\n",
       "2024-12-06  12.77\n",
       "2024-12-09  14.19\n",
       "2024-12-10  14.18\n",
       "\n",
       "[251 rows x 1 columns]>"
      ]
     },
     "execution_count": 275,
     "metadata": {},
     "output_type": "execute_result"
    }
   ],
   "source": [
    "df.head"
   ]
  },
  {
   "cell_type": "code",
   "execution_count": 228,
   "metadata": {},
   "outputs": [],
   "source": [
    "# $ pip install openpyxl\n",
    "# Salva il DataFrame in un file Excel\n",
    "#df.index = pd.to_datetime(df.index, utc=True)\n",
    "# Salva il DataFrame in un file Excel\n",
    "df.to_excel('C:\\C.Documents\\\\01 personale\\\\04 INVESTIMENTI\\\\codice\\\\VIX_Storico.xlsx', index=True)\n"
   ]
  },
  {
   "cell_type": "markdown",
   "metadata": {},
   "source": [
    "# Indicatori utilizzati\n",
    "### Short-term EMA \n",
    "This EMA is more reactive to recent price movements. It can be used to identify short-term trends and potential trading signals.\n",
    "### Long-term EMA\n",
    "This EMA is less sensitive to short-term noise and can be used to identify long-term trends.\n",
    "\n",
    "### Trend Identification: \n",
    "When the short-term EMA ( media mobile esponenziale) crosses above the long-term EMA, it's often interpreted as a bullish signal, indicating a potential uptrend. Conversely, a crossover below the long-term EMA can signal a potential downtrend.\n",
    "\n",
    "Volatility Analysis: The difference between the two EMAs can be used to measure the volatility of the VIX itself. A large difference can indicate increased market volatility.\n",
    "\n",
    "Divergence: When the price moves in one direction, but the EMAs move in the opposite direction, it can be a sign of a potential trend reversal.\n",
    "\n",
    "By calculating and analyzing these EMAs, you can gain valuable insights into the behavior of the VIX and make informed trading decisions.\n",
    "\n",
    "## Analyzing the VIX with the Provided Code\n",
    "\n",
    "### Exponential Moving Averages (EMA): \n",
    "EMA_short: A short-term EMA, typically used to capture short-term trends.\n",
    "EMA_long: A long-term EMA, used to identify long-term trends.\n",
    "### Percent Change:\n",
    "pct_change: Calculates the percentage change between consecutive VIX values.\n",
    "### Standard Deviation:\n",
    "std: Calculates the standard deviation of the VIX over a 20-day rolling window.\n",
    "### Bollinger Bands:\n",
    "These bands are calculated based on the short-term EMA and standard deviation, providing a measure of volatility.\n",
    "### Semaforo Signal:\n",
    "The assign_signal function assigns a color-coded signal based on the VIX's position relative to the EMAs and Bollinger Bands.\n",
    "Interpreting the Signals\n",
    "Verde: The VIX is below the short-term EMA, indicating low volatility and potentially a bullish market sentiment.\n",
    "Giallo: The VIX is between the Bollinger Bands, suggesting moderate volatility.\n",
    "Rosso: The VIX is above the upper Bollinger Band, indicating high volatility and potentially a bearish market sentiment."
   ]
  },
  {
   "cell_type": "code",
   "execution_count": null,
   "metadata": {},
   "outputs": [
    {
     "name": "stdout",
     "output_type": "stream",
     "text": [
      "ADF Statistic: -4.070252\n",
      "p-value: 0.001084\n",
      "Critical Values:\n",
      "\t1%: -3.457\n",
      "\t5%: -2.873\n",
      "\t10%: -2.573\n"
     ]
    }
   ],
   "source": [
    "# Calcola gli indicatori\n",
    "df['EMA_short'] = df['VIX'].ewm(span=20, adjust=False).mean()\n",
    "df['EMA_long'] = df['VIX'].ewm(span=200, adjust=False).mean()\n",
    "df['pct_change'] = df['VIX'].pct_change()\n",
    "# Variazione percentuale = ((Valore attuale - Valore precedente) / Valore precedente) * 100\n",
    "df['std'] = df['VIX'].rolling(window=20).std()\n",
    "\n",
    "# Calcola le bande di Bollinger\n",
    "df['upper_band'] = df['EMA_short'] + (2 * df['std'])\n",
    "df['lower_band'] = df['EMA_short'] - (2 * df['std'])\n",
    "\n",
    "# Definisci le soglie per il semaforo\n",
    "threshold = df['EMA_long'] * 2\n",
    "pct_change_threshold = 0.2\n",
    "\n",
    "# Crea la colonna del semaforo\n",
    "def assign_signal(row):\n",
    "    if row['VIX'] < row['EMA_short']:\n",
    "        return 'Verde'\n",
    "    elif row['VIX'] < row['upper_band'] and row['VIX'] > row['lower_band']:\n",
    "        return 'Giallo'\n",
    "    elif abs(row['pct_change']) > pct_change_threshold:\n",
    "        return 'Rosso (Alta volatilità)'\n",
    "    else:\n",
    "        return 'Rosso'\n",
    "\n",
    "df['Semaforo'] = df.apply(assign_signal, axis=1)\n",
    "\n",
    "\n",
    "\n",
    "\n",
    "\n",
    "\n"
   ]
  },
  {
   "cell_type": "markdown",
   "metadata": {},
   "source": [
    "# What is the Dickey-Fuller Test? #\n",
    "The Dickey-Fuller test is a statistical test for stationarity in a time series. A stationary time series has a constant mean, variance, and autocorrelation over time. This property is crucial for many time series analysis techniques.\n",
    "\n",
    "## Interpreting the Results\n",
    "ADF Statistic: A negative value indicates that the time series is likely stationary.\n",
    "p-value: A p-value less than 0.05 suggests that the null hypothesis (the time series is non-stationary) can be rejected, indicating stationarity.\n",
    "Critical Values: These are used to compare with the ADF statistic to determine the significance level.\n",
    "\n",
    "## Stazionarietà di una Serie Temporale ##\n",
    "Immagina una serie temporale come un fiume. Se il livello dell'acqua rimane più o meno costante nel tempo, con fluttuazioni casuali intorno a una media stabile, allora possiamo dire che il fiume è in uno stato stazionario. Allo stesso modo, una serie temporale è stazionaria quando le sue caratteristiche statistiche (come la media, la varianza e la covarianza) rimangono costanti nel tempo.\n",
    "\n",
    "### In termini più tecnici: #\n",
    "\n",
    "Una serie temporale è stazionaria se:\n",
    "\n",
    "La media è costante nel tempo: Non c'è una tendenza crescente o decrescente a lungo termine.\n",
    "La varianza è costante nel tempo: L'ampiezza delle fluttuazioni non cambia significativamente nel tempo.\n",
    "La struttura di autocorrelazione è costante nel tempo: La relazione tra i valori passati e futuri della serie rimane invariata.\n",
    "Perché la Stazionarietà è Importante?\n",
    "\n",
    "Modellazione: Molti modelli di previsione delle serie temporali assumono che i dati siano stazionari.\n",
    "\n",
    "Interpretazione: Una serie stazionaria è più facile da interpretare e analizzare.\n",
    "\n",
    "Previsioni: Le previsioni fatte su una serie stazionaria tendono a essere più accurate.\n",
    "Cosa Succede se una Serie Non è Stazionaria?\n",
    "\n",
    "**Se una serie non è stazionaria, le tecniche di previsione tradizionali potrebbero non funzionare correttamente. Ad esempio, se una serie ha una tendenza crescente, un modello potrebbe prevedere un continuo aumento anche se in realtà il trend potrebbe invertirsi**\n",
    "\n",
    "Come Verificare la Stazionarietà?\n",
    "\n",
    "Grafici: Un semplice grafico della serie temporale può fornire un'indicazione visiva della presenza di trend o stagionalità.\n",
    "Test Statistici: Il test di Dickey-Fuller è uno dei test più comuni per verificare la stazionarietà.\n",
    "Cosa Fare se una Serie Non è Stazionaria?\n",
    "\n",
    "Differenziazione: Calcolare la differenza tra un valore e quello precedente può aiutare a rimuovere trend.\n",
    "Trasformazioni: Altre trasformazioni, come il logaritmo, possono stabilizzare la varianza.\n",
    "Modelli Specifici: Esistono modelli specifici per serie non stazionarie, come i modelli ARIMA con radice unitaria.\n",
    "In Conclusione:\n",
    "La stazionarietà è una proprietà fondamentale delle serie temporali. Comprendere questo concetto è essenziale per effettuare analisi accurate e previsioni affidabili.\n",
    "\n",
    "## Interpreting the Results:\n",
    "### ADF Statistic: \n",
    "A negative value indicates that the time series is likely stationary.\n",
    "### p-value: \n",
    "A p-value less than 0.05 suggests that the null hypothesis (the time series is non-stationary) can be rejected, indicating stationarity.\n",
    "### Critical Values: \n",
    "These are used to compare with the ADF statistic to determine the significance level.\n"
   ]
  },
  {
   "cell_type": "code",
   "execution_count": 283,
   "metadata": {},
   "outputs": [
    {
     "name": "stdout",
     "output_type": "stream",
     "text": [
      "ADF Statistic: -4.070252\n",
      "p-value: 0.001084\n",
      "Critical Values:\n",
      "\t1%: -3.457\n",
      "\t5%: -2.873\n",
      "\t10%: -2.573\n"
     ]
    }
   ],
   "source": [
    "# Test di Dickey-Fuller per la stazionarietà (opzionale)\n",
    "result = adfuller(df['VIX'])\n",
    "print('ADF Statistic: %f' % result[0])\n",
    "print('p-value: %f' % result[1])\n",
    "print('Critical Values:')\n",
    "for key, value in result[4].items():\n",
    "    print('\\t%s: %.3f' % (key, value))"
   ]
  },
  {
   "cell_type": "code",
   "execution_count": 285,
   "metadata": {},
   "outputs": [
    {
     "data": {
      "image/png": "[encoded data removed]",
      "text/plain": [
       "<Figure size 1200x600 with 1 Axes>"
      ]
     },
     "metadata": {},
     "output_type": "display_data"
    },
    {
     "name": "stdout",
     "output_type": "stream",
     "text": [
      "              VIX  EMA_short   EMA_long  pct_change       std  upper_band  \\\n",
      "Data                                                                        \n",
      "2023-12-12  12.07  12.070000  12.070000         NaN       NaN         NaN   \n",
      "2023-12-13  12.19  12.081428  12.071194    0.009942       NaN         NaN   \n",
      "2023-12-14  12.48  12.119387  12.075261    0.023790       NaN         NaN   \n",
      "2023-12-15  12.28  12.134684  12.077299   -0.016026       NaN         NaN   \n",
      "2023-12-18  12.56  12.175190  12.082102    0.022801       NaN         NaN   \n",
      "...           ...        ...        ...         ...       ...         ...   \n",
      "2024-12-04  13.45  15.282739  16.063543    0.011278  1.186226   17.655191   \n",
      "2024-12-05  13.54  15.116764  16.038433    0.006691  1.178296   17.473356   \n",
      "2024-12-06  12.77  14.893262  16.005912   -0.056869  1.254600   17.402462   \n",
      "2024-12-09  14.19  14.826285  15.987843    0.111198  1.256683   17.339650   \n",
      "2024-12-10  14.18  14.764734  15.969854   -0.000705  1.257270   17.279274   \n",
      "\n",
      "            lower_band Semaforo  \n",
      "Data                             \n",
      "2023-12-12         NaN    Rosso  \n",
      "2023-12-13         NaN    Rosso  \n",
      "2023-12-14         NaN    Rosso  \n",
      "2023-12-15         NaN    Rosso  \n",
      "2023-12-18         NaN    Rosso  \n",
      "...                ...      ...  \n",
      "2024-12-04   12.910286    Verde  \n",
      "2024-12-05   12.760171    Verde  \n",
      "2024-12-06   12.384063    Verde  \n",
      "2024-12-09   12.312920    Verde  \n",
      "2024-12-10   12.250195    Verde  \n",
      "\n",
      "[251 rows x 8 columns]\n"
     ]
    }
   ],
   "source": [
    "view_start_date = pd.to_datetime('today') - pd.Timedelta(days=60)\n",
    "df_filtered = df[df.index >= view_start_date]\n",
    "\n",
    "\n",
    "plt.figure(figsize=(12, 6))\n",
    "plt.plot(df_filtered['VIX'], label='VIX',color=\"blue\")\n",
    "plt.plot(df_filtered['EMA_short'], label='EMA 20',color=\"orange\")\n",
    "plt.plot(df_filtered['upper_band'], label='Bollinger Upper Band',color=\"black\")\n",
    "plt.plot(df_filtered['lower_band'], label='Bollinger Lower Band',color=\"black\")\n",
    "plt.plot(df_filtered['EMA_long'], label='EMA 250',color=\"red\")\n",
    "plt.legend()\n",
    "plt.show()\n",
    "\n",
    "# Visualizza il dataframe con il semaforo\n",
    "print(df)"
   ]
  },
  {
   "cell_type": "code",
   "execution_count": 286,
   "metadata": {},
   "outputs": [],
   "source": [
    "df_filtered.to_excel('C:\\C.Documents\\\\01 personale\\\\04 INVESTIMENTI\\\\codice\\\\VIX_Storico.xlsx', index=True)"
   ]
  },
  {
   "cell_type": "code",
   "execution_count": 282,
   "metadata": {},
   "outputs": [
    {
     "data": {
      "text/plain": [
       "Data\n",
       "2024-10-14                     Giallo\n",
       "2024-10-15                     Giallo\n",
       "2024-10-16                     Giallo\n",
       "2024-10-17                      Verde\n",
       "2024-10-18                      Verde\n",
       "2024-10-21                      Verde\n",
       "2024-10-22                      Verde\n",
       "2024-10-23                     Giallo\n",
       "2024-10-24                     Giallo\n",
       "2024-10-25                     Giallo\n",
       "2024-10-28                     Giallo\n",
       "2024-10-29                     Giallo\n",
       "2024-10-30                     Giallo\n",
       "2024-10-31    Rosso (Strong Movement)\n",
       "2024-11-01                     Giallo\n",
       "2024-11-04                     Giallo\n",
       "2024-11-05                     Giallo\n",
       "2024-11-06                      Verde\n",
       "2024-11-07                      Verde\n",
       "2024-11-08                      Verde\n",
       "2024-11-11                      Verde\n",
       "2024-11-12                      Verde\n",
       "2024-11-13                      Verde\n",
       "2024-11-14                      Verde\n",
       "2024-11-15                      Verde\n",
       "2024-11-18                      Verde\n",
       "2024-11-19                      Verde\n",
       "2024-11-20                     Giallo\n",
       "2024-11-21                      Verde\n",
       "2024-11-22                      Verde\n",
       "2024-11-25                      Verde\n",
       "2024-11-26                      Verde\n",
       "2024-11-27                      Verde\n",
       "2024-11-29                      Verde\n",
       "2024-12-02                      Verde\n",
       "2024-12-03                      Verde\n",
       "2024-12-04                      Verde\n",
       "2024-12-05                      Verde\n",
       "2024-12-06                      Verde\n",
       "2024-12-09                      Verde\n",
       "2024-12-10                      Verde\n",
       "Name: Semaforo, dtype: object"
      ]
     },
     "execution_count": 282,
     "metadata": {},
     "output_type": "execute_result"
    }
   ],
   "source": [
    "df_filtered[\"Semaforo\"]"
   ]
  }
 ],
 "metadata": {
  "kernelspec": {
   "display_name": "Python 3 (ipykernel)",
   "language": "python",
   "name": "python3"
  },
  "language_info": {
   "codemirror_mode": {
    "name": "ipython",
    "version": 3
   },
   "file_extension": ".py",
   "mimetype": "text/x-python",
   "name": "python",
   "nbconvert_exporter": "python",
   "pygments_lexer": "ipython3",
   "version": "3.11.4"
  }
 },
 "nbformat": 4,
 "nbformat_minor": 2
}
