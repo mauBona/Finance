{
 "cells": [
  {
   "cell_type": "markdown",
   "metadata": {},
   "source": [
    "# Rebalancing a securities portfolio\n",
    "\n",
    "Input:\n",
    "- the initial asset quantities of the portfolio.\n",
    "- the allocation target strategy in terms of % of each asset\n",
    "Output\n",
    "The notebook calculates how much new cash must be injected to rebalance each individual asset in the portfolio with respect to the defined target allocation strategy.\n",
    "\n"
   ]
  },
  {
   "cell_type": "markdown",
   "metadata": {},
   "source": [
    "# Il problema di minimo da risolvere\n",
    "\n",
    "# the initial asset quantities of the portfolio\n",
    "INPUT A= 1000, B = 1000, C= 1000 \n",
    "# the allocation target strategy in terms of % of each asset\n",
    "INPUT Pa = 0.3, Pb = 0.4, Pc =0.3 \n",
    "\n",
    "CONDIZIONI\n",
    "\n",
    "Pa+Pb+Pc=1\n",
    "\n",
    "A1 => 0\n",
    "B1 => 0\n",
    "C1 => 0\n",
    "\n",
    "(A+A1) + (B+B1) + (C+C1) = Tot\n",
    "\n",
    "(A+A1) = Tot*Pa\n",
    "\n",
    "(B+B1) = Tot*Pb\n",
    "\n",
    "(C+C1) = Tot*Pc\n",
    "\n",
    "Calcola il valore minimo di Tot, A1,B1,C1 arrotondati all'intero\n",
    "\n",
    "fornisci valore cash = A1+B1+C1\n",
    "\n",
    "\n",
    "## Perché si utilizza la formula Tot = max(A / Pa, B / Pb, C / Pc)? ##\n",
    "\n",
    "La formula Tot = max(A / Pa, B / Pb, C / Pc) viene utilizzata perché, per raggiungere la nuova distribuzione target (Pa, Pb, Pc), dobbiamo garantire che ogni asset sia proporzionalmente adeguato rispetto al totale Tot.\n",
    "\n",
    "1. Relazione tra i pesi e il totale\n",
    "Le percentuali target (Pa, Pb, Pc) rappresentano le proporzioni che ogni asset (A, B, C) dovrebbe avere rispetto al totale Tot:\n",
    "\n",
    "A + A1 = Tot * Pa\n",
    "B + B1 = Tot * Pb\n",
    "C + C1 = Tot * Pc\n",
    "Questo significa che, per un dato Tot, dobbiamo aumentare ogni asset fino a raggiungere la percentuale desiderata.\n",
    "\n",
    "2. Determinare il minimo Tot\n",
    "Per rispettare i vincoli delle percentuali target:\n",
    "\n",
    "Ogni asset iniziale (A, B, C) deve essere aumentato fino a raggiungere almeno Tot * Pa, Tot * Pb, Tot * Pc.\n",
    "Quindi, calcoliamo il minimo Tot possibile per cui nessuna delle quantità aggiuntive (A1, B1, C1) risulti negativa:\n",
    "        Tot >= A / Pa\n",
    "        Tot >= B / Pb\n",
    "        Tot >= C / Pc\n",
    "    \n",
    "Il valore minimo di Tot deve soddisfare contemporaneamente tutti e tre i vincoli, quindi prendiamo il massimo tra i valori calcolati:\n",
    "\n",
    "        Tot = max(A / Pa, B / Pb, C / Pc)\n",
    "    \n",
    "3. Conclusione\n",
    "Il valore di Tot è determinato dal vincolo più restrittivo, cioè dall'asset che richiede il maggiore aumento per rispettare la sua percentuale target. Usando Tot = max(A / Pa, B / Pb, C / Pc), assicuriamo che ogni asset sia proporzionato correttamente al nuovo totale senza violare le percentuali target."
   ]
  },
  {
   "cell_type": "code",
   "execution_count": 296,
   "metadata": {},
   "outputs": [],
   "source": [
    "import pandas as pd\n",
    "\n",
    "# Input: valori attuali dei titoli e percentuali target\n",
    "\n",
    "A_label = 'ETF Azionario Global'\n",
    "B_label = \"ETF Bond Euro\"\n",
    "C_label = 'BTP ITALIA'\n",
    "\n",
    "A = 165271 + 13084\n",
    "B = 63113\n",
    "C = 270000\n",
    "\n",
    "# Input: Allocation strategy\n",
    "Pa = 0.4\n",
    "Pb = 0.2\n",
    "Pc = 0.4\n",
    "\n",
    "# Verifica che le percentuali target sommino a 1\n",
    "if round(Pa + Pb + Pc, 10) != 1:\n",
    "    raise ValueError(\"Le percentuali target non sommano a 1!\")"
   ]
  },
  {
   "cell_type": "code",
   "execution_count": 297,
   "metadata": {},
   "outputs": [],
   "source": [
    "# Calcolo del valore minimo di Tot\n",
    "Tot = max(A / Pa, B / Pb, C / Pc)\n",
    "\n",
    "# Calcolo dei valori aggiuntivi A1, B1, C1\n",
    "A1 = round(Tot * Pa - A)\n",
    "B1 = round(Tot * Pb - B)\n",
    "C1 = round(Tot * Pc - C)\n",
    "\n",
    "# Valore totale del cash iniettato\n",
    "cash = A1 + B1 + C1\n",
    "\n",
    "# Calcolo dei nuovi valori totali\n",
    "new_A = A + A1\n",
    "new_B = B + B1\n",
    "new_C = C + C1\n",
    "\n",
    "# Percentuali effettive dopo il ribilanciamento\n",
    "perc_A = round(new_A / Tot * 100, 1)\n",
    "perc_B = round(new_B / Tot * 100, 1)\n",
    "perc_C = round(new_C / Tot * 100, 1)"
   ]
  },
  {
   "cell_type": "code",
   "execution_count": 299,
   "metadata": {},
   "outputs": [
    {
     "name": "stdout",
     "output_type": "stream",
     "text": [
      "Tabella riassuntiva del ribilanciamento:\n",
      "               Asset  Valore iniziale  Distr. Attesa (%)  Scostamento (%)  Aggiunta  Valore totale  Distr. Finale (%)\n",
      "ETF Azionario Global           178355               40.0               51     91645         270000               40.0\n",
      "       ETF Bond Euro            63113               20.0              114     71887         135000               20.0\n",
      "          BTP ITALIA           270000               40.0                0         0         270000               40.0\n",
      "\n",
      "Valore totale del cash da investire (A1+B1+C1): 163532\n"
     ]
    }
   ],
   "source": [
    "# Creazione della tabella riassuntiva\n",
    "data = {\n",
    "    \"Asset\": [A_label, B_label, C_label],\n",
    "    \"Valore iniziale\": [A, B, C],\n",
    "    \"Distr. Attesa (%)\": [Pa*100, Pb*100, Pc*100],\n",
    "    \"Scostamento (%)\": [round(A1/A*100), round(B1/B*100), round(C1/C*100)],\n",
    "    \"Aggiunta\": [A1, B1, C1],\n",
    "    \"Valore totale\": [new_A, new_B, new_C],\n",
    "    \"Distr. Finale (%)\": [perc_A, perc_B, perc_C],\n",
    "}\n",
    "\n",
    "df = pd.DataFrame(data)\n",
    "\n",
    "# Output della tabella e del valore di cash iniettato\n",
    "print(\"Tabella riassuntiva del ribilanciamento:\")\n",
    "print(df.to_string(index=False))\n",
    "print(f\"\\nValore totale del cash da investire (A1+B1+C1): {cash}\")"
   ]
  }
 ],
 "metadata": {
  "kernelspec": {
   "display_name": "Python 3 (ipykernel)",
   "language": "python",
   "name": "python3"
  },
  "language_info": {
   "codemirror_mode": {
    "name": "ipython",
    "version": 3
   },
   "file_extension": ".py",
   "mimetype": "text/x-python",
   "name": "python",
   "nbconvert_exporter": "python",
   "pygments_lexer": "ipython3",
   "version": "3.11.4"
  }
 },
 "nbformat": 4,
 "nbformat_minor": 2
}
